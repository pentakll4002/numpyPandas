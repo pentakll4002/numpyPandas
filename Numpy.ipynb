{
  "nbformat": 4,
  "nbformat_minor": 0,
  "metadata": {
    "colab": {
      "provenance": [],
      "authorship_tag": "ABX9TyNPXf7OOZd7+rbL5VN6P4QE",
      "include_colab_link": true
    },
    "kernelspec": {
      "name": "python3",
      "display_name": "Python 3"
    },
    "language_info": {
      "name": "python"
    }
  },
  "cells": [
    {
      "cell_type": "markdown",
      "metadata": {
        "id": "view-in-github",
        "colab_type": "text"
      },
      "source": [
        "<a href=\"https://colab.research.google.com/github/pentakll4002/numpyPandas/blob/main/Numpy.ipynb\" target=\"_parent\"><img src=\"https://colab.research.google.com/assets/colab-badge.svg\" alt=\"Open In Colab\"/></a>"
      ]
    },
    {
      "cell_type": "code",
      "execution_count": null,
      "metadata": {
        "colab": {
          "base_uri": "https://localhost:8080/"
        },
        "id": "B_AvMZem_X7g",
        "outputId": "e326b800-9f50-43b5-d1ca-db1b61b62244"
      },
      "outputs": [
        {
          "output_type": "stream",
          "name": "stdout",
          "text": [
            "Requirement already satisfied: numpy in /usr/local/lib/python3.10/dist-packages (1.26.4)\n"
          ]
        }
      ],
      "source": [
        "!pip install numpy"
      ]
    },
    {
      "cell_type": "code",
      "source": [
        "import numpy as np\n",
        "\n",
        "## Create array using numpy\n",
        "## Create a 1D array\n",
        "\n",
        "arr1 = np.array([1, 2, 3, 4, 5])\n",
        "print(arr1)\n",
        "print(type(arr1))\n",
        "print(arr1.shape)"
      ],
      "metadata": {
        "colab": {
          "base_uri": "https://localhost:8080/"
        },
        "id": "1OVgO6gbAfLd",
        "outputId": "826f35ba-0401-4c6a-f67d-eb9cdd7a0c7c"
      },
      "execution_count": null,
      "outputs": [
        {
          "output_type": "stream",
          "name": "stdout",
          "text": [
            "[1 2 3 4 5]\n",
            "<class 'numpy.ndarray'>\n",
            "(5,)\n"
          ]
        }
      ]
    },
    {
      "cell_type": "code",
      "source": [
        "## Reshape - ;à mảng 2 chiều\n",
        "arr2 = np.array([1, 2, 3, 4, 5])\n",
        "## Reshape(1, 5) nghĩa là 1 hàng 5 cột\n",
        "arr2.reshape(1, 5)\n"
      ],
      "metadata": {
        "colab": {
          "base_uri": "https://localhost:8080/"
        },
        "id": "OWCOhaNzCV4Y",
        "outputId": "b0e09d61-bbe4-4f87-d3ec-cfad79643978"
      },
      "execution_count": null,
      "outputs": [
        {
          "output_type": "execute_result",
          "data": {
            "text/plain": [
              "array([[1, 2, 3, 4, 5]])"
            ]
          },
          "metadata": {},
          "execution_count": 12
        }
      ]
    },
    {
      "cell_type": "code",
      "source": [
        "arr2 = np.array([[1, 2, 3, 4, 5]])\n",
        "arr2.shape"
      ],
      "metadata": {
        "colab": {
          "base_uri": "https://localhost:8080/"
        },
        "id": "fElhjhbzDNHp",
        "outputId": "679c674c-836a-46bb-d220-2a7fe78ae07b"
      },
      "execution_count": null,
      "outputs": [
        {
          "output_type": "execute_result",
          "data": {
            "text/plain": [
              "(1, 5)"
            ]
          },
          "metadata": {},
          "execution_count": 14
        }
      ]
    },
    {
      "cell_type": "code",
      "source": [
        "### 2D array\n",
        "arr2 = np.array([[1, 2, 3, 4, 5], [2, 3, 4, 5, 6]])\n",
        "arr2.shape\n",
        "print(arr2)"
      ],
      "metadata": {
        "colab": {
          "base_uri": "https://localhost:8080/"
        },
        "id": "kBNYpwlfDZYZ",
        "outputId": "723b7e3a-244c-47ec-96fe-d078343b14d7"
      },
      "execution_count": null,
      "outputs": [
        {
          "output_type": "stream",
          "name": "stdout",
          "text": [
            "[[1 2 3 4 5]\n",
            " [2 3 4 5 6]]\n"
          ]
        }
      ]
    },
    {
      "cell_type": "code",
      "source": [
        "## Tạo mảng 1 chiều từ 0 -> 9, và in ra các phần tử chẳn, tạo ra 5 hàng, 1 cột\n",
        "np.arange(0, 10, 2).reshape(5, 1)"
      ],
      "metadata": {
        "colab": {
          "base_uri": "https://localhost:8080/"
        },
        "id": "wSLd2ueBDyNp",
        "outputId": "8f05d8c4-55dc-4643-f95d-e340571c390d"
      },
      "execution_count": null,
      "outputs": [
        {
          "output_type": "execute_result",
          "data": {
            "text/plain": [
              "array([[0],\n",
              "       [2],\n",
              "       [4],\n",
              "       [6],\n",
              "       [8]])"
            ]
          },
          "metadata": {},
          "execution_count": 20
        }
      ]
    },
    {
      "cell_type": "code",
      "source": [
        "## Tạo ra ma trận 3 hàng 4 cột full 1\n",
        "np.ones((3, 4))"
      ],
      "metadata": {
        "colab": {
          "base_uri": "https://localhost:8080/"
        },
        "id": "NCCPgSQnEi8S",
        "outputId": "2d21f412-f1ae-43b7-8f23-0ca602de98c0"
      },
      "execution_count": null,
      "outputs": [
        {
          "output_type": "execute_result",
          "data": {
            "text/plain": [
              "array([[1., 1., 1., 1.],\n",
              "       [1., 1., 1., 1.],\n",
              "       [1., 1., 1., 1.]])"
            ]
          },
          "metadata": {},
          "execution_count": 21
        }
      ]
    },
    {
      "cell_type": "code",
      "source": [
        "### Identity Matrix =>>> Ma trận chéo, ma trận tam giác\n",
        "# Tạo ma trận tam giác 3x3\n",
        "np.eye((3))"
      ],
      "metadata": {
        "colab": {
          "base_uri": "https://localhost:8080/"
        },
        "id": "1QjAWpdGExn5",
        "outputId": "07cfcee0-4163-460f-dd44-b5e81f4fc5c4"
      },
      "execution_count": null,
      "outputs": [
        {
          "output_type": "execute_result",
          "data": {
            "text/plain": [
              "array([[1., 0., 0.],\n",
              "       [0., 1., 0.],\n",
              "       [0., 0., 1.]])"
            ]
          },
          "metadata": {},
          "execution_count": 24
        }
      ]
    },
    {
      "cell_type": "code",
      "source": [
        "### Attributes of Numpy Array\n",
        "arr = np.array([[1, 2, 3], [4, 5, 6]])\n",
        "\n",
        "print(\"Array:\\n\", arr)\n",
        "print(\"Shape:\", arr.shape) # Output: (2, 3)\n",
        "print(\"Number of dimensions:\", arr.ndim) # Output: 2\n",
        "print(\"Size (number of elements):\", arr.size) # Output: 6\n",
        "print(\"Data type:\", arr.dtype) # Output: int64 (may vary based on platform)\n",
        "print(\"Item size (in bytes):\", arr.itemsize) # Output: 8 (may vary based on platform)"
      ],
      "metadata": {
        "colab": {
          "base_uri": "https://localhost:8080/"
        },
        "id": "eVZjpZU3Ffqg",
        "outputId": "c2e1f757-eb20-4b6c-df19-22ae4205373d"
      },
      "execution_count": null,
      "outputs": [
        {
          "output_type": "stream",
          "name": "stdout",
          "text": [
            "Array:\n",
            " [[1 2 3]\n",
            " [4 5 6]]\n",
            "Shape: (2, 3)\n",
            "Number of dimensions: 2\n",
            "Size (number of elements): 6\n",
            "Data type: int64\n",
            "Item size (in bytes): 8\n"
          ]
        }
      ]
    },
    {
      "cell_type": "code",
      "source": [
        "### Numpy Vectorized Operation\n",
        "arr1 = np.array([1, 2, 3, 4, 5])\n",
        "arr2 = np.array([10, 20, 30, 40, 50])\n",
        "\n",
        "### Element Wise addition\n",
        "print (\"Addition:\", arr1 + arr2)\n",
        "\n",
        "### Element Wise Substraction\n",
        "print (\"Substraction:\", arr1 - arr2)\n",
        "\n",
        "### Element Wise Multiplication\n",
        "print(\"Multiplication:\", arr1 * arr2)\n",
        "\n",
        "### Element Wise Division\n",
        "print(\"Division:\", arr1 / arr2)"
      ],
      "metadata": {
        "colab": {
          "base_uri": "https://localhost:8080/"
        },
        "id": "ZANH_Rs-F-RU",
        "outputId": "f10abf31-270d-4e4e-a550-ff1271ec6022"
      },
      "execution_count": null,
      "outputs": [
        {
          "output_type": "stream",
          "name": "stdout",
          "text": [
            "Addition: [11 22 33 44 55]\n",
            "Substraction: [ -9 -18 -27 -36 -45]\n",
            "Multiple: [ 10  40  90 160 250]\n",
            "Distract: [0.1 0.1 0.1 0.1 0.1]\n"
          ]
        }
      ]
    },
    {
      "cell_type": "code",
      "source": [
        "### Universal Function\n",
        "arr = np.array([2, 3, 4, 5, 6])\n",
        "\n",
        "### Square root : Khai căn\n",
        "print(np.sqrt(arr))\n",
        "\n",
        "### Exponential : Hàm số mũ\n",
        "print(np.exp(arr))\n",
        "\n",
        "### Sine : Sin\n",
        "print(np.sin(arr))\n",
        "\n",
        "### Logarit =>> Hàm số log\n",
        "print(np.log(arr))"
      ],
      "metadata": {
        "colab": {
          "base_uri": "https://localhost:8080/"
        },
        "id": "4tgJdeRjHMo4",
        "outputId": "2aa4a166-a3da-4209-a8ab-eb1aeee490c7"
      },
      "execution_count": null,
      "outputs": [
        {
          "output_type": "stream",
          "name": "stdout",
          "text": [
            "[1.41421356 1.73205081 2.         2.23606798 2.44948974]\n",
            "[  7.3890561   20.08553692  54.59815003 148.4131591  403.42879349]\n",
            "[ 0.90929743  0.14112001 -0.7568025  -0.95892427 -0.2794155 ]\n",
            "[0.69314718 1.09861229 1.38629436 1.60943791 1.79175947]\n"
          ]
        }
      ]
    },
    {
      "cell_type": "code",
      "source": [
        "### Array Licing and Indexing\n",
        "\n",
        "# Tạo ra mảng 2 chiều 3 dòng 4 cột\n",
        "arr = np.array([[1, 2, 3, 4], [5, 6, 7, 8], [9, 10, 11, 12]])\n",
        "print(\"Array: \\n\", arr)\n"
      ],
      "metadata": {
        "colab": {
          "base_uri": "https://localhost:8080/"
        },
        "id": "qqS56KhhJiHR",
        "outputId": "aca8e021-a80c-4b40-8d64-c5d5cddb5a18"
      },
      "execution_count": null,
      "outputs": [
        {
          "output_type": "stream",
          "name": "stdout",
          "text": [
            "Array: \n",
            " [[ 1  2  3  4]\n",
            " [ 5  6  7  8]\n",
            " [ 9 10 11 12]]\n"
          ]
        },
        {
          "output_type": "execute_result",
          "data": {
            "text/plain": [
              "1"
            ]
          },
          "metadata": {},
          "execution_count": 34
        }
      ]
    },
    {
      "cell_type": "code",
      "source": [
        "## Lấy hàng đầu tiên của arr\n",
        "print(arr[0][0])"
      ],
      "metadata": {
        "colab": {
          "base_uri": "https://localhost:8080/"
        },
        "id": "ybAJ8u73Kz7L",
        "outputId": "de4d252f-c514-467a-8eee-91e770043ce1"
      },
      "execution_count": null,
      "outputs": [
        {
          "output_type": "execute_result",
          "data": {
            "text/plain": [
              "1"
            ]
          },
          "metadata": {},
          "execution_count": 35
        }
      ]
    },
    {
      "cell_type": "code",
      "source": [
        "## Lấy số 7 và 8\n",
        "print(arr[1][2])\n",
        "print(arr[1][3])"
      ],
      "metadata": {
        "colab": {
          "base_uri": "https://localhost:8080/"
        },
        "id": "9J0Vw1fQK1L9",
        "outputId": "5f68c1d2-a719-4a25-9f44-d2820ff59eb8"
      },
      "execution_count": null,
      "outputs": [
        {
          "output_type": "execute_result",
          "data": {
            "text/plain": [
              "8"
            ]
          },
          "metadata": {},
          "execution_count": 38
        }
      ]
    },
    {
      "cell_type": "code",
      "source": [
        "## Lấy từ hàng 2 đổ đi\n",
        "print(arr[1:])"
      ],
      "metadata": {
        "colab": {
          "base_uri": "https://localhost:8080/"
        },
        "id": "TcN3hN5VLDfe",
        "outputId": "d7904b69-ad24-48d2-ec0d-c5a6c32cfa01"
      },
      "execution_count": null,
      "outputs": [
        {
          "output_type": "execute_result",
          "data": {
            "text/plain": [
              "array([[ 5,  6,  7,  8],\n",
              "       [ 9, 10, 11, 12]])"
            ]
          },
          "metadata": {},
          "execution_count": 40
        }
      ]
    },
    {
      "cell_type": "code",
      "source": [
        "## Lấy từ hàng 2, và lấy cột 3 đổ đi\n",
        "print(arr[1:, 2:])"
      ],
      "metadata": {
        "colab": {
          "base_uri": "https://localhost:8080/"
        },
        "id": "Twza33ikLQOR",
        "outputId": "a27edbd4-6bc6-4ef4-ec34-ebc0b6f40d80"
      },
      "execution_count": null,
      "outputs": [
        {
          "output_type": "stream",
          "name": "stdout",
          "text": [
            "[[ 7  8]\n",
            " [11 12]]\n"
          ]
        }
      ]
    },
    {
      "cell_type": "code",
      "source": [
        "## Lấy số 2, 3, 4, 6, 7, 8\n",
        "print(arr[0:2, 1:])\n",
        "## Lấy số 7,8, 11, 12\n",
        "print(arr[1:, 2:])\n",
        "## Lây số 6, 7, 8, 10, 11, 12\n",
        "print(arr[1:, 1:])\n",
        "## Lấy số 6, 7, 10, 11\n",
        "print(arr[1:, 1:3])"
      ],
      "metadata": {
        "colab": {
          "base_uri": "https://localhost:8080/"
        },
        "id": "xPAX3G1-L9ZG",
        "outputId": "a21652e6-bb00-49c5-ef1d-b76fe7c63ebd"
      },
      "execution_count": null,
      "outputs": [
        {
          "output_type": "stream",
          "name": "stdout",
          "text": [
            "[[2 3 4]\n",
            " [6 7 8]]\n",
            "[[ 7  8]\n",
            " [11 12]]\n",
            "[[ 6  7  8]\n",
            " [10 11 12]]\n",
            "[[ 6  7]\n",
            " [10 11]]\n"
          ]
        }
      ]
    },
    {
      "cell_type": "code",
      "source": [
        "### Modify array element\n",
        "arr[0][0] = 100\n",
        "print(arr)"
      ],
      "metadata": {
        "colab": {
          "base_uri": "https://localhost:8080/"
        },
        "id": "nic4zjk-NCPg",
        "outputId": "c6e4e893-4e00-4109-8613-bcc302bd6103"
      },
      "execution_count": null,
      "outputs": [
        {
          "output_type": "stream",
          "name": "stdout",
          "text": [
            "[[100   2   3   4]\n",
            " [  5   6   7   8]\n",
            " [  9  10  11  12]]\n"
          ]
        }
      ]
    },
    {
      "cell_type": "code",
      "source": [
        "arr[1:] = 100\n",
        "print(arr)"
      ],
      "metadata": {
        "colab": {
          "base_uri": "https://localhost:8080/"
        },
        "id": "NY--89P6NRl8",
        "outputId": "3fc4efd5-723d-4ca5-89f2-f89316c2564d"
      },
      "execution_count": null,
      "outputs": [
        {
          "output_type": "stream",
          "name": "stdout",
          "text": [
            "[[100   2   3   4]\n",
            " [100 100 100 100]\n",
            " [100 100 100 100]]\n"
          ]
        }
      ]
    },
    {
      "cell_type": "markdown",
      "source": [
        "#### Statistical Concept---Normalization\n"
      ],
      "metadata": {
        "id": "r1sVrCrGNnKq"
      }
    },
    {
      "cell_type": "code",
      "source": [
        "## To have a mean of 0 and standard deviation of 1: Độ lệch chuẩn từ 0 -> 1\n",
        "data = np.array([1, 2, 3, 4, 5])\n",
        "\n",
        "### Calculate the mean and standard deviation\n",
        "## mean = giá trị trung bình\n",
        "## std = độ lệch chuẩn\n",
        "# X là giá trị dữ liệu gốc\n",
        "# x̄ (x-bar) là giá trị trung bình của tập dữ liệu\n",
        "# std là độ lệch chuẩn của tập dữ liệu\n",
        "mean = np.mean(data)\n",
        "std_dev = np.std(data)\n",
        "\n",
        "## Normalize the data\n",
        "normalized_data = (data - mean) / std_dev\n",
        "print(\"Normalized data:\", normalized_data)\n",
        "\n",
        "### Output:\n",
        "### Normalized data: [-1.2649106 -0.63245553 0. 0.63245553 1.2649106]\n"
      ],
      "metadata": {
        "colab": {
          "base_uri": "https://localhost:8080/"
        },
        "id": "eVaSrsgZNoiK",
        "outputId": "084da696-7c93-4151-b335-5dc8ad09bd1c"
      },
      "execution_count": null,
      "outputs": [
        {
          "output_type": "stream",
          "name": "stdout",
          "text": [
            "Normalized data: [-1.41421356 -0.70710678  0.          0.70710678  1.41421356]\n"
          ]
        }
      ]
    },
    {
      "cell_type": "code",
      "source": [
        "data = np.array([1, 2, 3, 4, 5, 6, 7, 8, 9, 10])\n",
        "\n",
        "### Mean\n",
        "mean = np.mean(data)\n",
        "print(\"Mean:\", mean)\n",
        "\n",
        "### Median\n",
        "median = np.median(data)\n",
        "print(\"Median:\", median)\n",
        "\n",
        "### Standard deviation\n",
        "std_dev = np.std(data)\n",
        "print(\"Standard Deviation:\", std_dev)\n",
        "\n",
        "### Variance\n",
        "variance = np.var(data)\n",
        "print(\"Variance:\", variance)\n"
      ],
      "metadata": {
        "colab": {
          "base_uri": "https://localhost:8080/"
        },
        "id": "GAwLyNclPTyJ",
        "outputId": "60f78515-e4c1-42df-b6da-9527ce005a65"
      },
      "execution_count": null,
      "outputs": [
        {
          "output_type": "stream",
          "name": "stdout",
          "text": [
            "Mean: 5.5\n",
            "Median: 5.5\n",
            "Standard Deviation: 2.8722813232690143\n",
            "Variance: 8.25\n"
          ]
        }
      ]
    },
    {
      "cell_type": "code",
      "source": [
        "### Logical operation\n",
        "data = np.array([1, 2, 3, 4, 5, 6, 7, 8, 9, 10])\n",
        "\n",
        "### Lấy các phần tử lớn hơn 5 (bên trong là điều kiện) và bé hơn 8\n",
        "data[ (data >= 5) & (data <= 8) ]"
      ],
      "metadata": {
        "colab": {
          "base_uri": "https://localhost:8080/"
        },
        "id": "pNB-xke4QJxg",
        "outputId": "0e6279f6-6e8b-4dc9-e26f-3c9a6066460f"
      },
      "execution_count": null,
      "outputs": [
        {
          "output_type": "execute_result",
          "data": {
            "text/plain": [
              "array([5, 6, 7, 8])"
            ]
          },
          "metadata": {},
          "execution_count": 59
        }
      ]
    }
  ]
}